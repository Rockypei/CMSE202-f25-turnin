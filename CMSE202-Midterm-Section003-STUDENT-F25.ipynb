{
 "cells": [
  {
   "cell_type": "markdown",
   "id": "3def3efc",
   "metadata": {
    "tags": []
   },
   "source": [
    "# CMSE 202 Midterm (Section 003 - Fall 2025)\n",
    "\n",
    "The goal of this midterm is to give you the opportunity to test out some of the skills that you've developed thus far this semester. In particular, you'll practice setting up a GitHub repository, committing and pushing repository changes, downloading data with command line tools, performing some data analysis, possibly using a new Python package, and writing a python class. You should find that you have all of the skills necessary to complete this exam with even just eight weeks of CMSE 202 under your belt!\n",
    "\n",
    "You are encouraged to look through the entire exam before you get started so that you can appropriately budget your time and understand the broad goals of the exam. Once you've read through it, try doing Parts 0 and 1 first so that you have your repository set up and you download all necessary data files as they will be necessary to complete the assigned tasks. Let your instructor know right away if you have problems downloading the data!\n",
    "\n",
    "The exam is set up so that even if you get stuck on one part there are opportunities to get points on the other parts, so consider jumping ahead if you feel like you aren't making progress and then come back later if you have time. If you have any questions during the exam, you may ask the instructor, the TA, or the LA privately: simply raise your hand and one of us will come over to you. \n",
    "\n",
    "\n",
    "**Important note about using online resources**: This exam is \"open internet\". That means that you can look up documentation, google how to accomplish certain Python tasks, etc. Being able to effectively use the internet for computational modeling and data science is a very important skill, so we want to make sure you have the opportunity to exercise that skill. **However: The use of any person-to-person communication software or generative AI tools is absolutely not acceptable.** If you are seen accessing your email, using a collaborative cloud storage or document software (e.g. Slack, Google Documents), or generative AIs (e.g. ChatGPT), you will be at risk for receiving a zero on the exam. Google often does give an AI summary regardless of search, so to avoid misusing AI on the exam you should not copy-paste any of the questions from the exam directly into Google. \n",
    "\n",
    "**Keep your eyes on your screen!** Unfortunately, there isn't enough space in the room for everyone to sit at their own table so please keep your eyes on your own screen. This exam is designed to give *you* the opportunity to show the instructor what you can do and you should hold yourself accountable for maintaining a high level of academic integrity. If any of the instructors observe suspicious behavior, you will, again, risk receiving a zero.\n",
    "\n",
    "**Github Issues:** If at any point you encounter an issue with Github, such as a merge conflict, rather than spending your limited exam time trying to fix it, just write the code you would use to achieve the task in the notebook and move on. If you note the issue you encountered and have correct code in your notebook, you can still receive full credit. "
   ]
  },
  {
   "cell_type": "markdown",
   "id": "6b0b3d3a",
   "metadata": {},
   "source": [
    "---\n",
    "## Part 0: Academic integrity statement\n",
    "\n",
    "Read the following statement and edit the markdown text to put your name in the statement. This is your commitment to doing your own authentic work on this exam."
   ]
  },
  {
   "cell_type": "markdown",
   "id": "8e3dc4df",
   "metadata": {
    "pycharm": {
     "name": "#%% md\n"
    }
   },
   "source": [
    "> I, **Yan Pei**, affirm that this exam represents my own authetic work, without the use of any unpermitted aids or generative AIs or person-to-person communication. I understand that this exam an an opportunity to showcase my own progress in developing and improving my computational skills and have done my best to demonstrate those skills."
   ]
  },
  {
   "cell_type": "markdown",
   "id": "435ee396",
   "metadata": {
    "tags": []
   },
   "source": [
    "--\n",
    "## Part 1: Add to your Git repository to track your progress on your exam (10 points total)\n",
    "\n",
    "Before you get too far along in the exam, you're going to add it to the `cmse202-f25-turnin` repository you created in class (or in Homework 1) so that you can track your progress on the exam and preserve the final version that you turn in. In order to do this you need to\n",
    "\n",
    "1. Navigate to your `cmse202-f25-turnin` repository and create a new directory called `midterm`.\n",
    "2. Move this notebook into that **new directory** in your repository, then **add it and commit it to your repository**.\n",
    "3. Finally, to test that everything is working, \"git push\" the file so that it ends up in your GitHub repository.\n",
    "\n",
    "**Important**: Double check you've added your Professor and your TA as collaborators to your \"turnin\" respository (you should have done this in the previous homework assignment).\n",
    "\n",
    "**Important**: Make sure that the version of this notebook that you are working on is the same one that you just added to your repository! If you are working on a different copy of the noteobok, **none of your changes will be tracked**!\n",
    "\n",
    "The file should now show up on your GitHub account in the `cmse202-f25-turnin` repository inside the `midterm` directory you just created.  Periodically, **you'll be asked to commit your changes to the repository and push them to the remote GitHub location**. It can be good to get into a habit of committing your changes any time you make a significant modification."
   ]
  },
  {
   "cell_type": "markdown",
   "id": "290bab71",
   "metadata": {},
   "source": [
    "&#9989; **Question 1.1 Put all the Git commands you used to add your midterm folder and file to your GitHub repository (4 points)**:"
   ]
  },
  {
   "cell_type": "code",
   "execution_count": 2,
   "id": "77244e3d",
   "metadata": {},
   "outputs": [
    {
     "ename": "SyntaxError",
     "evalue": "invalid syntax (170509374.py, line 2)",
     "output_type": "error",
     "traceback": [
      "\u001b[1;36m  Cell \u001b[1;32mIn[2], line 2\u001b[1;36m\u001b[0m\n\u001b[1;33m    cd cmse-202-turnin\u001b[0m\n\u001b[1;37m       ^\u001b[0m\n\u001b[1;31mSyntaxError\u001b[0m\u001b[1;31m:\u001b[0m invalid syntax\n"
     ]
    }
   ],
   "source": [
    "### Put your code here:\n",
    "cd cmse-202-turnin\n",
    "mkdir midterm\n",
    "mv ~/Downloads/CMSE202-Midterm-Section003-STUDENT-F25.ipynb midterm/"
   ]
  },
  {
   "cell_type": "markdown",
   "id": "903ce347",
   "metadata": {},
   "source": [
    "&#9989; **Question 1.2 Put the code the instructor will need to clone your repository here (1 points)**:\n"
   ]
  },
  {
   "cell_type": "code",
   "execution_count": 1,
   "id": "adf93908",
   "metadata": {},
   "outputs": [
    {
     "ename": "SyntaxError",
     "evalue": "invalid syntax (2186518450.py, line 2)",
     "output_type": "error",
     "traceback": [
      "\u001b[1;36m  Cell \u001b[1;32mIn[1], line 2\u001b[1;36m\u001b[0m\n\u001b[1;33m    git clone https://github.com/Rockypei/cmse202-f25-turnin.git\u001b[0m\n\u001b[1;37m        ^\u001b[0m\n\u001b[1;31mSyntaxError\u001b[0m\u001b[1;31m:\u001b[0m invalid syntax\n"
     ]
    }
   ],
   "source": [
    "### Put your code here:\n",
    "!git clone https://github.com/Rockypei/cmse202-f25-turnin.git"
   ]
  },
  {
   "cell_type": "markdown",
   "id": "8239c731",
   "metadata": {},
   "source": [
    "&#9989; **Question 1.3 Create a local branch called `exam_1_update`. What sequence of Git commands would you use to merge `exam_1_update` into `main`, resolve any conflicts if needed, and push the final result to GitHub?\n",
    " (3 points)**:\n"
   ]
  },
  {
   "cell_type": "code",
   "execution_count": 4,
   "id": "bea789f6-6ab4-4377-987e-120d16dba7b3",
   "metadata": {},
   "outputs": [
    {
     "ename": "SyntaxError",
     "evalue": "invalid syntax (3911078954.py, line 1)",
     "output_type": "error",
     "traceback": [
      "\u001b[1;36m  Cell \u001b[1;32mIn[4], line 1\u001b[1;36m\u001b[0m\n\u001b[1;33m    git checkout main\u001b[0m\n\u001b[1;37m        ^\u001b[0m\n\u001b[1;31mSyntaxError\u001b[0m\u001b[1;31m:\u001b[0m invalid syntax\n"
     ]
    }
   ],
   "source": [
    "git checkout main\n",
    "git pull origin main\n",
    "git checkout -b exam_1_update\n",
    "git add -A\n",
    "git commit -m \"Exam: updates on Part X (QY) in midterm notebook\"\n",
    "git push -u origin exam_1_update\n",
    "git checkout main\n",
    "git pull origin main\n",
    "git merge --no-ff exam_1_update"
   ]
  },
  {
   "cell_type": "markdown",
   "id": "39b5c084",
   "metadata": {},
   "source": [
    "&#9989; **Question 1.4 (2 points)**: After completing each of Part 2, Part 3, Part 4, and Part 5 below, save your notebook, commit the changes to your Git repository using a descriptive commit message, and push the changes to GitHub. Note that there are large &#128721; **STOP** signs reminding you to do this after each part. **Note:** If Github issues are encountered, just write the code you would use to commit and push changes under each of the stop signs. "
   ]
  },
  {
   "cell_type": "markdown",
   "id": "2a33af2b",
   "metadata": {},
   "source": [
    "---\n",
    "## Part 2: Downloading and analyzing unfamiliar data (12 points)\n",
    "\n"
   ]
  },
  {
   "cell_type": "markdown",
   "id": "60a3afbd",
   "metadata": {},
   "source": [
    "The data set at this web link `https://raw.githubusercontent.com/NkechiC/Data-files-for-teaching/refs/heads/main/202/heart_data.csv` contains clinical test results of 303 patients at the Cleveland Clinic in Cleveland, Ohio. This data is used to estimate the incidence of vascular conditions among the patients.​"
   ]
  },
  {
   "cell_type": "markdown",
   "id": "fdbaac8f",
   "metadata": {},
   "source": [
    "&#9989; **Question 2.1  Use the `curl` function we learned in class to download the `heart_data.csv` dataset to your working directory. Include the code you used to download the dataset below.  (1 point)**:\n"
   ]
  },
  {
   "cell_type": "code",
   "execution_count": 11,
   "id": "acd32e74",
   "metadata": {},
   "outputs": [
    {
     "name": "stderr",
     "output_type": "stream",
     "text": [
      "  % Total    % Received % Xferd  Average Speed   Time    Time     Time  Current\n",
      "                                 Dload  Upload   Total   Spent    Left  Speed\n",
      "\n",
      "  0     0    0     0    0     0      0      0 --:--:-- --:--:-- --:--:--     0\n",
      "100 11325  100 11325    0     0   148k      0 --:--:-- --:--:-- --:--:--  155k\n"
     ]
    }
   ],
   "source": [
    "### Put your code here:\n",
    "!curl -L -o heart_data.csv https://raw.githubusercontent.com/NkechiC/Data-files-for-teaching/refs/heads/main/202/heart_data.csv"
   ]
  },
  {
   "cell_type": "markdown",
   "id": "5c1ff7ba",
   "metadata": {},
   "source": [
    "&#9989; **Question 2.2 Read in the dataset as a Pandas data frame and then display the first 5 rows. (1 point)**: \n",
    "\n"
   ]
  },
  {
   "cell_type": "code",
   "execution_count": 12,
   "id": "0eabef99",
   "metadata": {},
   "outputs": [
    {
     "data": {
      "text/html": [
       "<div>\n",
       "<style scoped>\n",
       "    .dataframe tbody tr th:only-of-type {\n",
       "        vertical-align: middle;\n",
       "    }\n",
       "\n",
       "    .dataframe tbody tr th {\n",
       "        vertical-align: top;\n",
       "    }\n",
       "\n",
       "    .dataframe thead th {\n",
       "        text-align: right;\n",
       "    }\n",
       "</style>\n",
       "<table border=\"1\" class=\"dataframe\">\n",
       "  <thead>\n",
       "    <tr style=\"text-align: right;\">\n",
       "      <th></th>\n",
       "      <th>age</th>\n",
       "      <th>sex</th>\n",
       "      <th>cp</th>\n",
       "      <th>trestbps</th>\n",
       "      <th>chol</th>\n",
       "      <th>fbs</th>\n",
       "      <th>restecg</th>\n",
       "      <th>thalach</th>\n",
       "      <th>exang</th>\n",
       "      <th>oldpeak</th>\n",
       "      <th>slope</th>\n",
       "      <th>ca</th>\n",
       "      <th>thal</th>\n",
       "      <th>target</th>\n",
       "    </tr>\n",
       "  </thead>\n",
       "  <tbody>\n",
       "    <tr>\n",
       "      <th>0</th>\n",
       "      <td>63</td>\n",
       "      <td>1</td>\n",
       "      <td>3</td>\n",
       "      <td>145</td>\n",
       "      <td>233</td>\n",
       "      <td>1</td>\n",
       "      <td>0</td>\n",
       "      <td>150</td>\n",
       "      <td>0</td>\n",
       "      <td>2.3</td>\n",
       "      <td>0</td>\n",
       "      <td>0</td>\n",
       "      <td>1</td>\n",
       "      <td>1</td>\n",
       "    </tr>\n",
       "    <tr>\n",
       "      <th>1</th>\n",
       "      <td>37</td>\n",
       "      <td>1</td>\n",
       "      <td>2</td>\n",
       "      <td>130</td>\n",
       "      <td>250</td>\n",
       "      <td>0</td>\n",
       "      <td>1</td>\n",
       "      <td>187</td>\n",
       "      <td>0</td>\n",
       "      <td>3.5</td>\n",
       "      <td>0</td>\n",
       "      <td>0</td>\n",
       "      <td>2</td>\n",
       "      <td>1</td>\n",
       "    </tr>\n",
       "    <tr>\n",
       "      <th>2</th>\n",
       "      <td>41</td>\n",
       "      <td>0</td>\n",
       "      <td>1</td>\n",
       "      <td>130</td>\n",
       "      <td>204</td>\n",
       "      <td>0</td>\n",
       "      <td>0</td>\n",
       "      <td>172</td>\n",
       "      <td>0</td>\n",
       "      <td>1.4</td>\n",
       "      <td>2</td>\n",
       "      <td>0</td>\n",
       "      <td>2</td>\n",
       "      <td>1</td>\n",
       "    </tr>\n",
       "    <tr>\n",
       "      <th>3</th>\n",
       "      <td>56</td>\n",
       "      <td>1</td>\n",
       "      <td>1</td>\n",
       "      <td>120</td>\n",
       "      <td>236</td>\n",
       "      <td>0</td>\n",
       "      <td>1</td>\n",
       "      <td>178</td>\n",
       "      <td>0</td>\n",
       "      <td>0.8</td>\n",
       "      <td>2</td>\n",
       "      <td>0</td>\n",
       "      <td>2</td>\n",
       "      <td>1</td>\n",
       "    </tr>\n",
       "    <tr>\n",
       "      <th>4</th>\n",
       "      <td>57</td>\n",
       "      <td>0</td>\n",
       "      <td>0</td>\n",
       "      <td>120</td>\n",
       "      <td>354</td>\n",
       "      <td>0</td>\n",
       "      <td>1</td>\n",
       "      <td>163</td>\n",
       "      <td>1</td>\n",
       "      <td>0.6</td>\n",
       "      <td>2</td>\n",
       "      <td>0</td>\n",
       "      <td>2</td>\n",
       "      <td>1</td>\n",
       "    </tr>\n",
       "  </tbody>\n",
       "</table>\n",
       "</div>"
      ],
      "text/plain": [
       "   age  sex  cp  trestbps  chol  fbs  restecg  thalach  exang  oldpeak  slope  \\\n",
       "0   63    1   3       145   233    1        0      150      0      2.3      0   \n",
       "1   37    1   2       130   250    0        1      187      0      3.5      0   \n",
       "2   41    0   1       130   204    0        0      172      0      1.4      2   \n",
       "3   56    1   1       120   236    0        1      178      0      0.8      2   \n",
       "4   57    0   0       120   354    0        1      163      1      0.6      2   \n",
       "\n",
       "   ca  thal  target  \n",
       "0   0     1       1  \n",
       "1   0     2       1  \n",
       "2   0     2       1  \n",
       "3   0     2       1  \n",
       "4   0     2       1  "
      ]
     },
     "execution_count": 12,
     "metadata": {},
     "output_type": "execute_result"
    }
   ],
   "source": [
    "### Put your code here:\n",
    "import pandas as pd\n",
    "heart_df = pd.read_csv(\"heart_data.csv\")\n",
    "heart_df.head()"
   ]
  },
  {
   "cell_type": "markdown",
   "id": "d86e79ad",
   "metadata": {},
   "source": [
    "&#9989; **Question 2.3 Describe the dataset by finding all the summary statistics (1 point)**: \n",
    "\n"
   ]
  },
  {
   "cell_type": "code",
   "execution_count": 14,
   "id": "7fa9bffb",
   "metadata": {},
   "outputs": [
    {
     "data": {
      "text/html": [
       "<div>\n",
       "<style scoped>\n",
       "    .dataframe tbody tr th:only-of-type {\n",
       "        vertical-align: middle;\n",
       "    }\n",
       "\n",
       "    .dataframe tbody tr th {\n",
       "        vertical-align: top;\n",
       "    }\n",
       "\n",
       "    .dataframe thead th {\n",
       "        text-align: right;\n",
       "    }\n",
       "</style>\n",
       "<table border=\"1\" class=\"dataframe\">\n",
       "  <thead>\n",
       "    <tr style=\"text-align: right;\">\n",
       "      <th></th>\n",
       "      <th>age</th>\n",
       "      <th>sex</th>\n",
       "      <th>cp</th>\n",
       "      <th>trestbps</th>\n",
       "      <th>chol</th>\n",
       "      <th>fbs</th>\n",
       "      <th>restecg</th>\n",
       "      <th>thalach</th>\n",
       "      <th>exang</th>\n",
       "      <th>oldpeak</th>\n",
       "      <th>slope</th>\n",
       "      <th>ca</th>\n",
       "      <th>thal</th>\n",
       "      <th>target</th>\n",
       "    </tr>\n",
       "  </thead>\n",
       "  <tbody>\n",
       "    <tr>\n",
       "      <th>count</th>\n",
       "      <td>303.000000</td>\n",
       "      <td>303.000000</td>\n",
       "      <td>303.000000</td>\n",
       "      <td>303.000000</td>\n",
       "      <td>303.000000</td>\n",
       "      <td>303.000000</td>\n",
       "      <td>303.000000</td>\n",
       "      <td>303.000000</td>\n",
       "      <td>303.000000</td>\n",
       "      <td>303.000000</td>\n",
       "      <td>303.000000</td>\n",
       "      <td>303.000000</td>\n",
       "      <td>303.000000</td>\n",
       "      <td>303.000000</td>\n",
       "    </tr>\n",
       "    <tr>\n",
       "      <th>mean</th>\n",
       "      <td>54.366337</td>\n",
       "      <td>0.683168</td>\n",
       "      <td>0.966997</td>\n",
       "      <td>131.623762</td>\n",
       "      <td>246.264026</td>\n",
       "      <td>0.148515</td>\n",
       "      <td>0.528053</td>\n",
       "      <td>149.646865</td>\n",
       "      <td>0.326733</td>\n",
       "      <td>1.039604</td>\n",
       "      <td>1.399340</td>\n",
       "      <td>0.729373</td>\n",
       "      <td>2.313531</td>\n",
       "      <td>0.544554</td>\n",
       "    </tr>\n",
       "    <tr>\n",
       "      <th>std</th>\n",
       "      <td>9.082101</td>\n",
       "      <td>0.466011</td>\n",
       "      <td>1.032052</td>\n",
       "      <td>17.538143</td>\n",
       "      <td>51.830751</td>\n",
       "      <td>0.356198</td>\n",
       "      <td>0.525860</td>\n",
       "      <td>22.905161</td>\n",
       "      <td>0.469794</td>\n",
       "      <td>1.161075</td>\n",
       "      <td>0.616226</td>\n",
       "      <td>1.022606</td>\n",
       "      <td>0.612277</td>\n",
       "      <td>0.498835</td>\n",
       "    </tr>\n",
       "    <tr>\n",
       "      <th>min</th>\n",
       "      <td>29.000000</td>\n",
       "      <td>0.000000</td>\n",
       "      <td>0.000000</td>\n",
       "      <td>94.000000</td>\n",
       "      <td>126.000000</td>\n",
       "      <td>0.000000</td>\n",
       "      <td>0.000000</td>\n",
       "      <td>71.000000</td>\n",
       "      <td>0.000000</td>\n",
       "      <td>0.000000</td>\n",
       "      <td>0.000000</td>\n",
       "      <td>0.000000</td>\n",
       "      <td>0.000000</td>\n",
       "      <td>0.000000</td>\n",
       "    </tr>\n",
       "    <tr>\n",
       "      <th>25%</th>\n",
       "      <td>47.500000</td>\n",
       "      <td>0.000000</td>\n",
       "      <td>0.000000</td>\n",
       "      <td>120.000000</td>\n",
       "      <td>211.000000</td>\n",
       "      <td>0.000000</td>\n",
       "      <td>0.000000</td>\n",
       "      <td>133.500000</td>\n",
       "      <td>0.000000</td>\n",
       "      <td>0.000000</td>\n",
       "      <td>1.000000</td>\n",
       "      <td>0.000000</td>\n",
       "      <td>2.000000</td>\n",
       "      <td>0.000000</td>\n",
       "    </tr>\n",
       "    <tr>\n",
       "      <th>50%</th>\n",
       "      <td>55.000000</td>\n",
       "      <td>1.000000</td>\n",
       "      <td>1.000000</td>\n",
       "      <td>130.000000</td>\n",
       "      <td>240.000000</td>\n",
       "      <td>0.000000</td>\n",
       "      <td>1.000000</td>\n",
       "      <td>153.000000</td>\n",
       "      <td>0.000000</td>\n",
       "      <td>0.800000</td>\n",
       "      <td>1.000000</td>\n",
       "      <td>0.000000</td>\n",
       "      <td>2.000000</td>\n",
       "      <td>1.000000</td>\n",
       "    </tr>\n",
       "    <tr>\n",
       "      <th>75%</th>\n",
       "      <td>61.000000</td>\n",
       "      <td>1.000000</td>\n",
       "      <td>2.000000</td>\n",
       "      <td>140.000000</td>\n",
       "      <td>274.500000</td>\n",
       "      <td>0.000000</td>\n",
       "      <td>1.000000</td>\n",
       "      <td>166.000000</td>\n",
       "      <td>1.000000</td>\n",
       "      <td>1.600000</td>\n",
       "      <td>2.000000</td>\n",
       "      <td>1.000000</td>\n",
       "      <td>3.000000</td>\n",
       "      <td>1.000000</td>\n",
       "    </tr>\n",
       "    <tr>\n",
       "      <th>max</th>\n",
       "      <td>77.000000</td>\n",
       "      <td>1.000000</td>\n",
       "      <td>3.000000</td>\n",
       "      <td>200.000000</td>\n",
       "      <td>564.000000</td>\n",
       "      <td>1.000000</td>\n",
       "      <td>2.000000</td>\n",
       "      <td>202.000000</td>\n",
       "      <td>1.000000</td>\n",
       "      <td>6.200000</td>\n",
       "      <td>2.000000</td>\n",
       "      <td>4.000000</td>\n",
       "      <td>3.000000</td>\n",
       "      <td>1.000000</td>\n",
       "    </tr>\n",
       "  </tbody>\n",
       "</table>\n",
       "</div>"
      ],
      "text/plain": [
       "              age         sex          cp    trestbps        chol         fbs  \\\n",
       "count  303.000000  303.000000  303.000000  303.000000  303.000000  303.000000   \n",
       "mean    54.366337    0.683168    0.966997  131.623762  246.264026    0.148515   \n",
       "std      9.082101    0.466011    1.032052   17.538143   51.830751    0.356198   \n",
       "min     29.000000    0.000000    0.000000   94.000000  126.000000    0.000000   \n",
       "25%     47.500000    0.000000    0.000000  120.000000  211.000000    0.000000   \n",
       "50%     55.000000    1.000000    1.000000  130.000000  240.000000    0.000000   \n",
       "75%     61.000000    1.000000    2.000000  140.000000  274.500000    0.000000   \n",
       "max     77.000000    1.000000    3.000000  200.000000  564.000000    1.000000   \n",
       "\n",
       "          restecg     thalach       exang     oldpeak       slope          ca  \\\n",
       "count  303.000000  303.000000  303.000000  303.000000  303.000000  303.000000   \n",
       "mean     0.528053  149.646865    0.326733    1.039604    1.399340    0.729373   \n",
       "std      0.525860   22.905161    0.469794    1.161075    0.616226    1.022606   \n",
       "min      0.000000   71.000000    0.000000    0.000000    0.000000    0.000000   \n",
       "25%      0.000000  133.500000    0.000000    0.000000    1.000000    0.000000   \n",
       "50%      1.000000  153.000000    0.000000    0.800000    1.000000    0.000000   \n",
       "75%      1.000000  166.000000    1.000000    1.600000    2.000000    1.000000   \n",
       "max      2.000000  202.000000    1.000000    6.200000    2.000000    4.000000   \n",
       "\n",
       "             thal      target  \n",
       "count  303.000000  303.000000  \n",
       "mean     2.313531    0.544554  \n",
       "std      0.612277    0.498835  \n",
       "min      0.000000    0.000000  \n",
       "25%      2.000000    0.000000  \n",
       "50%      2.000000    1.000000  \n",
       "75%      3.000000    1.000000  \n",
       "max      3.000000    1.000000  "
      ]
     },
     "execution_count": 14,
     "metadata": {},
     "output_type": "execute_result"
    }
   ],
   "source": [
    "### Put your code here:\n",
    "heart_df.describe()\n",
    "###The data describe the heart situations effected by different reasons"
   ]
  },
  {
   "cell_type": "markdown",
   "id": "2e90d1bd",
   "metadata": {},
   "source": [
    "&#9989; **Question 2.4 Now create a slice of the dataset that includes only the numerical variables `age`, `trestbps`, `chol`, `oldpeak`, and `thalach` (2 points)**: \n",
    "\n"
   ]
  },
  {
   "cell_type": "code",
   "execution_count": 16,
   "id": "7e6b7de6-d2d7-4625-986c-fb3cf947d237",
   "metadata": {},
   "outputs": [],
   "source": [
    "### Put your code here\n",
    "num_slice = heart_df[[\"age\", \"trestbps\", \"chol\", \"oldpeak\", \"thalach\"]]"
   ]
  },
  {
   "cell_type": "markdown",
   "id": "42fe8ccb",
   "metadata": {},
   "source": [
    "&#9989; **Question 2.5 Make a grid of four (4) scatterplots to analyze the respective correlations between age, `age`,  and the rest of the variables: resting blood pressure, cholesterol level, stress test for depression, and maximum heart rate, as measured by the variables `trestbps`, `chol`, `oldpeak`, and `thalach`, respectively. Make sure to include labels and a title for your plots. (4 points)**: \n"
   ]
  },
  {
   "cell_type": "code",
   "execution_count": 18,
   "id": "97b35785",
   "metadata": {},
   "outputs": [
    {
     "data": {
      "image/png": "[encoded data removed]",
      "text/plain": [
       "<Figure size 1000x800 with 4 Axes>"
      ]
     },
     "metadata": {},
     "output_type": "display_data"
    }
   ],
   "source": [
    "### Put your code here\n",
    "import matplotlib.pyplot as plt\n",
    "fig, axes = plt.subplots(2, 2, figsize=(10, 8))\n",
    "axes[0,0].scatter(num_slice[\"age\"], num_slice[\"trestbps\"])\n",
    "axes[0,0].set_xlabel(\"Age\")\n",
    "axes[0,0].set_ylabel(\"Resting Blood Pressure\")\n",
    "axes[0,0].set_title(\"Age vs Resting Blood Pressure\")\n",
    "axes[0,1].scatter(num_slice[\"age\"], num_slice[\"chol\"])\n",
    "axes[0,1].set_xlabel(\"Age\")\n",
    "axes[0,1].set_ylabel(\"Cholesterol\")\n",
    "axes[0,1].set_title(\"Age vs Cholesterol Level\")\n",
    "axes[1,0].scatter(num_slice[\"age\"], num_slice[\"oldpeak\"])\n",
    "axes[1,0].set_xlabel(\"Age\")\n",
    "axes[1,0].set_ylabel(\"Stress Test Depression\")\n",
    "axes[1,0].set_title(\"Age vs Stress Test Depression\")\n",
    "axes[1,1].scatter(num_slice[\"age\"], num_slice[\"thalach\"])\n",
    "axes[1,1].set_xlabel(\"Age\")\n",
    "axes[1,1].set_ylabel(\"Maximum Heart Rate\")\n",
    "axes[1,1].set_title(\"Age vs Maximum Heart Rate\")\n",
    "plt.show()"
   ]
  },
  {
   "cell_type": "markdown",
   "id": "9732c055",
   "metadata": {},
   "source": [
    "&#9989; **Question 2.6 Describe the correlation relationships you observe between each pair of variables from your plots above (2 points)**: \n"
   ]
  },
  {
   "cell_type": "code",
   "execution_count": 20,
   "id": "ba179043",
   "metadata": {},
   "outputs": [
    {
     "data": {
      "text/html": [
       "<div>\n",
       "<style scoped>\n",
       "    .dataframe tbody tr th:only-of-type {\n",
       "        vertical-align: middle;\n",
       "    }\n",
       "\n",
       "    .dataframe tbody tr th {\n",
       "        vertical-align: top;\n",
       "    }\n",
       "\n",
       "    .dataframe thead th {\n",
       "        text-align: right;\n",
       "    }\n",
       "</style>\n",
       "<table border=\"1\" class=\"dataframe\">\n",
       "  <thead>\n",
       "    <tr style=\"text-align: right;\">\n",
       "      <th></th>\n",
       "      <th>age</th>\n",
       "      <th>trestbps</th>\n",
       "      <th>chol</th>\n",
       "      <th>oldpeak</th>\n",
       "      <th>thalach</th>\n",
       "    </tr>\n",
       "  </thead>\n",
       "  <tbody>\n",
       "    <tr>\n",
       "      <th>age</th>\n",
       "      <td>1.000000</td>\n",
       "      <td>0.279351</td>\n",
       "      <td>0.213678</td>\n",
       "      <td>0.210013</td>\n",
       "      <td>-0.398522</td>\n",
       "    </tr>\n",
       "    <tr>\n",
       "      <th>trestbps</th>\n",
       "      <td>0.279351</td>\n",
       "      <td>1.000000</td>\n",
       "      <td>0.123174</td>\n",
       "      <td>0.193216</td>\n",
       "      <td>-0.046698</td>\n",
       "    </tr>\n",
       "    <tr>\n",
       "      <th>chol</th>\n",
       "      <td>0.213678</td>\n",
       "      <td>0.123174</td>\n",
       "      <td>1.000000</td>\n",
       "      <td>0.053952</td>\n",
       "      <td>-0.009940</td>\n",
       "    </tr>\n",
       "    <tr>\n",
       "      <th>oldpeak</th>\n",
       "      <td>0.210013</td>\n",
       "      <td>0.193216</td>\n",
       "      <td>0.053952</td>\n",
       "      <td>1.000000</td>\n",
       "      <td>-0.344187</td>\n",
       "    </tr>\n",
       "    <tr>\n",
       "      <th>thalach</th>\n",
       "      <td>-0.398522</td>\n",
       "      <td>-0.046698</td>\n",
       "      <td>-0.009940</td>\n",
       "      <td>-0.344187</td>\n",
       "      <td>1.000000</td>\n",
       "    </tr>\n",
       "  </tbody>\n",
       "</table>\n",
       "</div>"
      ],
      "text/plain": [
       "               age  trestbps      chol   oldpeak   thalach\n",
       "age       1.000000  0.279351  0.213678  0.210013 -0.398522\n",
       "trestbps  0.279351  1.000000  0.123174  0.193216 -0.046698\n",
       "chol      0.213678  0.123174  1.000000  0.053952 -0.009940\n",
       "oldpeak   0.210013  0.193216  0.053952  1.000000 -0.344187\n",
       "thalach  -0.398522 -0.046698 -0.009940 -0.344187  1.000000"
      ]
     },
     "execution_count": 20,
     "metadata": {},
     "output_type": "execute_result"
    }
   ],
   "source": [
    "### Put your code here\n",
    "num_slice.corr()"
   ]
  },
  {
   "cell_type": "markdown",
   "id": "c7fb929b",
   "metadata": {
    "jp-MarkdownHeadingCollapsed": true,
    "tags": []
   },
   "source": [
    "---\n",
    "### &#128721; STOP (1 point)\n",
    "**Pause to commit your changes to your Git repository!**\n",
    "\n",
    "Take a moment to save your notebook, commit  and push the changes to your Git repository.\n",
    "\n",
    "---"
   ]
  },
  {
   "cell_type": "markdown",
   "id": "73b28e5a",
   "metadata": {
    "tags": []
   },
   "source": [
    "## Part 3: Working with a new Python package (7 points)\n",
    "\n",
    "[`Polars`](https://pola.rs/) is an open-source Python library for data manipulation. In this section, you will be exploring the `Polars` Python package along with its documentation [Docs](https://docs.pola.rs/). \n"
   ]
  },
  {
   "cell_type": "markdown",
   "id": "fac01f60",
   "metadata": {},
   "source": [
    "&#9989; **Question 3.1 Use pip install to install the Polars package. Include the code you used to install it here. Remember to include the --user flag if using JupyterHub. (1 point):** "
   ]
  },
  {
   "cell_type": "code",
   "execution_count": 23,
   "id": "cc86c046",
   "metadata": {},
   "outputs": [
    {
     "name": "stdout",
     "output_type": "stream",
     "text": [
      "Requirement already satisfied: polars in c:\\users\\25834\\anaconda3\\lib\\site-packages (1.34.0)\n",
      "Requirement already satisfied: polars-runtime-32==1.34.0 in c:\\users\\25834\\anaconda3\\lib\\site-packages (from polars) (1.34.0)\n"
     ]
    }
   ],
   "source": [
    "# Put your code here\n",
    "!pip install polars"
   ]
  },
  {
   "cell_type": "markdown",
   "id": "6890c0b6",
   "metadata": {},
   "source": [
    "&#9989; **Question 3.2 Now import the same `heart_data.csv` as a dataframe using Polars. (1 point):** \n"
   ]
  },
  {
   "cell_type": "code",
   "execution_count": 28,
   "id": "8901b66f",
   "metadata": {},
   "outputs": [
    {
     "name": "stdout",
     "output_type": "stream",
     "text": [
      "shape: (303, 14)\n",
      "┌─────┬─────┬─────┬──────────┬───┬───────┬─────┬──────┬────────┐\n",
      "│ age ┆ sex ┆ cp  ┆ trestbps ┆ … ┆ slope ┆ ca  ┆ thal ┆ target │\n",
      "│ --- ┆ --- ┆ --- ┆ ---      ┆   ┆ ---   ┆ --- ┆ ---  ┆ ---    │\n",
      "│ i64 ┆ i64 ┆ i64 ┆ i64      ┆   ┆ i64   ┆ i64 ┆ i64  ┆ i64    │\n",
      "╞═════╪═════╪═════╪══════════╪═══╪═══════╪═════╪══════╪════════╡\n",
      "│ 63  ┆ 1   ┆ 3   ┆ 145      ┆ … ┆ 0     ┆ 0   ┆ 1    ┆ 1      │\n",
      "│ 37  ┆ 1   ┆ 2   ┆ 130      ┆ … ┆ 0     ┆ 0   ┆ 2    ┆ 1      │\n",
      "│ 41  ┆ 0   ┆ 1   ┆ 130      ┆ … ┆ 2     ┆ 0   ┆ 2    ┆ 1      │\n",
      "│ 56  ┆ 1   ┆ 1   ┆ 120      ┆ … ┆ 2     ┆ 0   ┆ 2    ┆ 1      │\n",
      "│ 57  ┆ 0   ┆ 0   ┆ 120      ┆ … ┆ 2     ┆ 0   ┆ 2    ┆ 1      │\n",
      "│ …   ┆ …   ┆ …   ┆ …        ┆ … ┆ …     ┆ …   ┆ …    ┆ …      │\n",
      "│ 57  ┆ 0   ┆ 0   ┆ 140      ┆ … ┆ 1     ┆ 0   ┆ 3    ┆ 0      │\n",
      "│ 45  ┆ 1   ┆ 3   ┆ 110      ┆ … ┆ 1     ┆ 0   ┆ 3    ┆ 0      │\n",
      "│ 68  ┆ 1   ┆ 0   ┆ 144      ┆ … ┆ 1     ┆ 2   ┆ 3    ┆ 0      │\n",
      "│ 57  ┆ 1   ┆ 0   ┆ 130      ┆ … ┆ 1     ┆ 1   ┆ 3    ┆ 0      │\n",
      "│ 57  ┆ 0   ┆ 1   ┆ 130      ┆ … ┆ 1     ┆ 1   ┆ 2    ┆ 0      │\n",
      "└─────┴─────┴─────┴──────────┴───┴───────┴─────┴──────┴────────┘\n"
     ]
    }
   ],
   "source": [
    "# Put your code here\n",
    "import polars as pl\n",
    "heart_pl = pl.read_csv(\"heart_data.csv\")\n",
    "print(heart_pl)"
   ]
  },
  {
   "cell_type": "markdown",
   "id": "caa1c580",
   "metadata": {},
   "source": [
    "&#9989; **Question 3.3 Now use Polar to filter the dataframe and create a subset containing only entries with `age` higher than 55 years old. Display the first 5 rows of the new dataframe. (3 points):** \n"
   ]
  },
  {
   "cell_type": "code",
   "execution_count": 29,
   "id": "54e8f1aa",
   "metadata": {},
   "outputs": [
    {
     "data": {
      "text/html": [
       "<div><style>\n",
       ".dataframe > thead > tr,\n",
       ".dataframe > tbody > tr {\n",
       "  text-align: right;\n",
       "  white-space: pre-wrap;\n",
       "}\n",
       "</style>\n",
       "<small>shape: (5, 14)</small><table border=\"1\" class=\"dataframe\"><thead><tr><th>age</th><th>sex</th><th>cp</th><th>trestbps</th><th>chol</th><th>fbs</th><th>restecg</th><th>thalach</th><th>exang</th><th>oldpeak</th><th>slope</th><th>ca</th><th>thal</th><th>target</th></tr><tr><td>i64</td><td>i64</td><td>i64</td><td>i64</td><td>i64</td><td>i64</td><td>i64</td><td>i64</td><td>i64</td><td>f64</td><td>i64</td><td>i64</td><td>i64</td><td>i64</td></tr></thead><tbody><tr><td>63</td><td>1</td><td>3</td><td>145</td><td>233</td><td>1</td><td>0</td><td>150</td><td>0</td><td>2.3</td><td>0</td><td>0</td><td>1</td><td>1</td></tr><tr><td>56</td><td>1</td><td>1</td><td>120</td><td>236</td><td>0</td><td>1</td><td>178</td><td>0</td><td>0.8</td><td>2</td><td>0</td><td>2</td><td>1</td></tr><tr><td>57</td><td>0</td><td>0</td><td>120</td><td>354</td><td>0</td><td>1</td><td>163</td><td>1</td><td>0.6</td><td>2</td><td>0</td><td>2</td><td>1</td></tr><tr><td>57</td><td>1</td><td>0</td><td>140</td><td>192</td><td>0</td><td>1</td><td>148</td><td>0</td><td>0.4</td><td>1</td><td>0</td><td>1</td><td>1</td></tr><tr><td>56</td><td>0</td><td>1</td><td>140</td><td>294</td><td>0</td><td>0</td><td>153</td><td>0</td><td>1.3</td><td>1</td><td>0</td><td>2</td><td>1</td></tr></tbody></table></div>"
      ],
      "text/plain": [
       "shape: (5, 14)\n",
       "┌─────┬─────┬─────┬──────────┬───┬───────┬─────┬──────┬────────┐\n",
       "│ age ┆ sex ┆ cp  ┆ trestbps ┆ … ┆ slope ┆ ca  ┆ thal ┆ target │\n",
       "│ --- ┆ --- ┆ --- ┆ ---      ┆   ┆ ---   ┆ --- ┆ ---  ┆ ---    │\n",
       "│ i64 ┆ i64 ┆ i64 ┆ i64      ┆   ┆ i64   ┆ i64 ┆ i64  ┆ i64    │\n",
       "╞═════╪═════╪═════╪══════════╪═══╪═══════╪═════╪══════╪════════╡\n",
       "│ 63  ┆ 1   ┆ 3   ┆ 145      ┆ … ┆ 0     ┆ 0   ┆ 1    ┆ 1      │\n",
       "│ 56  ┆ 1   ┆ 1   ┆ 120      ┆ … ┆ 2     ┆ 0   ┆ 2    ┆ 1      │\n",
       "│ 57  ┆ 0   ┆ 0   ┆ 120      ┆ … ┆ 2     ┆ 0   ┆ 2    ┆ 1      │\n",
       "│ 57  ┆ 1   ┆ 0   ┆ 140      ┆ … ┆ 1     ┆ 0   ┆ 1    ┆ 1      │\n",
       "│ 56  ┆ 0   ┆ 1   ┆ 140      ┆ … ┆ 1     ┆ 0   ┆ 2    ┆ 1      │\n",
       "└─────┴─────┴─────┴──────────┴───┴───────┴─────┴──────┴────────┘"
      ]
     },
     "execution_count": 29,
     "metadata": {},
     "output_type": "execute_result"
    }
   ],
   "source": [
    "# Put your code here\n",
    "heart_sub = heart_pl.filter(pl.col(\"age\") > 55)\n",
    "heart_sub.head(5)"
   ]
  },
  {
   "cell_type": "markdown",
   "id": "d4c7f3d3",
   "metadata": {},
   "source": [
    "&#9989; **Question 3.4 Now write the subset dataframe above to a csv file called `heart_data_sub.csv`. (1 point):** \n"
   ]
  },
  {
   "cell_type": "code",
   "execution_count": 30,
   "id": "b6dc5057",
   "metadata": {},
   "outputs": [],
   "source": [
    "# Put your code here\n",
    "heart_sub.write_csv(\"heart_data_sub.csv\")"
   ]
  },
  {
   "cell_type": "markdown",
   "id": "d381baf7",
   "metadata": {
    "jp-MarkdownHeadingCollapsed": true,
    "tags": []
   },
   "source": [
    "---\n",
    "### &#128721; STOP (1 point)\n",
    "**Pause to commit your changes to your Git repository!**\n",
    "\n",
    "Take a moment to save your notebook, commit  and push the changes to your Git repository.\n",
    "\n",
    "---"
   ]
  },
  {
   "cell_type": "markdown",
   "id": "07d450c5",
   "metadata": {},
   "source": [
    "## Part 4: Writing a simple Python class (19 points)\n",
    "\n",
    "In this section, we will be developing a Python class called `GradebookManager` for managing and manipulating student grade data from multiple CSV files, using the Pandas library."
   ]
  },
  {
   "cell_type": "markdown",
   "id": "221cf324-5c17-498e-be18-465be13a22e6",
   "metadata": {},
   "source": [
    "&#9989; **Do this:** Begin by downloading the files from the following three weblinks using the `curl` command:\n",
    "1. `https://raw.githubusercontent.com/NkechiC/Data-files-for-teaching/refs/heads/main/202/final_grades.csv`\n",
    "2. `https://raw.githubusercontent.com/NkechiC/Data-files-for-teaching/refs/heads/main/202/midterm.csv`\n",
    "3. `https://raw.githubusercontent.com/NkechiC/Data-files-for-teaching/refs/heads/main/202/quiz_grades.csv`"
   ]
  },
  {
   "cell_type": "code",
   "execution_count": null,
   "id": "acbccc4f-b384-49c3-99d6-9ef4f69bd9ea",
   "metadata": {},
   "outputs": [],
   "source": []
  },
  {
   "cell_type": "markdown",
   "id": "8c264b75",
   "metadata": {},
   "source": [
    "&#9989; **Question 4.1 Below is a half-completed GradebookManager class. Complete the code for the `init`, `load_data`, `merge_datasets`, `calculate_final_grades`, and `get_student_grades` methods. Follow the descriptions in the relevant DocString and the \"COMPLETE THIS\" comments. (12 points):** \n"
   ]
  },
  {
   "cell_type": "code",
   "execution_count": 42,
   "id": "0c7c0e8c",
   "metadata": {},
   "outputs": [],
   "source": [
    "### Put your code here\n",
    "\n",
    "import pandas as pd\n",
    "\n",
    "class GradebookManager:\n",
    "    \"\"\"\n",
    "    A class to manage, merge, and process student grade data from multiple CSV files.\n",
    "\n",
    "    Attributes:\n",
    "        dataframes (dict): A dictionary of loaded DataFrames, keyed by dataset name.\n",
    "        merged_data (pd.DataFrame or None): The combined DataFrame after merging datasets.\n",
    "    \"\"\"\n",
    "\n",
    "    def __init__(self, file_paths):\n",
    "        \"\"\"\n",
    "        Initializes the GradebookManager with a list of file paths.\n",
    "\n",
    "        Args:\n",
    "            file_paths (list of str): Paths to CSV files containing student grade data.\n",
    "        \"\"\"\n",
    "        ... ##COMPLETE THIS PART!\n",
    "\n",
    "        \n",
    "    def load_data(self, file_paths):\n",
    "        \"\"\"\n",
    "        Loads CSV files into pandas DataFrames and stores them in a dictionary.\n",
    "\n",
    "        Args:\n",
    "            file_paths (list of str): Paths to CSV files.\n",
    "\n",
    "        Raises:\n",
    "            FileNotFoundError: If a file path is invalid.\n",
    "            pd.errors.EmptyDataError: If a CSV file is empty.\n",
    "        \"\"\"\n",
    "        for i, path in enumerate(file_paths):\n",
    "            try:\n",
    "                df = ... #COMPLETE THIS: load csv with Pandas\n",
    "                self.dataframes[f'dataset_{i+1}'] = df\n",
    "            \n",
    "            except ...: #COMPLETE THIS LINE!\n",
    "                print(f\"Error: File not found at {path}\")\n",
    "            \n",
    "            except ...: #COMPLETE THIS LINE!\n",
    "                print(f\"Error: Empty CSV file at {path}\")\n",
    "\n",
    "   \n",
    "    def merge_datasets(self, on_column='student_id', how='outer'):\n",
    "        \"\"\"\n",
    "        Merges all loaded datasets into a single DataFrame on a common column.\n",
    "\n",
    "        Args:\n",
    "            on_column (str): The column name to merge on (default is 'student_id').\n",
    "            how (str): Type of merge to perform (default is 'outer'). \n",
    "                       Options: 'inner', 'outer', 'left', 'right'.\n",
    "\n",
    "        Returns:\n",
    "            None\n",
    "        \"\"\"\n",
    "        if not self.dataframes:\n",
    "            ... #COMPLETE THIS LINE!\n",
    "            return\n",
    "\n",
    "        first_df_key = list(self.dataframes.keys())[0]\n",
    "        self.merged_data = self.dataframes[first_df_key]\n",
    "\n",
    "        for key, df in list(self.dataframes.items())[1:]:\n",
    "            self.merged_data = pd.merge(\n",
    "                self.merged_data, df, on=on_column, how=how, suffixes=('_x', f'_{key}')\n",
    "            )\n",
    "\n",
    "    def calculate_final_grades(self, weights=None):\n",
    "        \"\"\"\n",
    "        Calculates final grades for students using a weighted average, if weights are provided.\n",
    "\n",
    "        Args:\n",
    "            weights (dict, optional): A dictionary mapping grade component names to their weights.\n",
    "                                      e.g., {'quiz': 0.2, 'exam': 0.5, 'project': 0.3}.\n",
    "                                      If None, uses simple average.\n",
    "\n",
    "        Returns:\n",
    "            pd.DataFrame or None: DataFrame with final grades added, or None if data not merged.\n",
    "        \"\"\"\n",
    "        if ...: #COMPLETE THIS: CHECK THAT DATASETS HAVE BEEN MERGED FIRST\n",
    "            print(\"Data not merged. Please run merge_datasets first.\")\n",
    "            return None\n",
    "\n",
    "        # Placeholder for implementation\n",
    "        if weights:\n",
    "             \n",
    "            final_grades = 0\n",
    "            for key, weight in weights.items():\n",
    "                cols = [col for col in df.columns if key in col.lower()]\n",
    "                if cols:\n",
    "                    final_grades += ...  # COMPLETE THIS: Implement weighted average calculation\n",
    "                else:\n",
    "                    print(f\"Warning: No columns found for '{key}'\")\n",
    "            df['final_grade'] = final_grades\n",
    "        else:\n",
    "            df['final_grade'] = ... # COMPLETE THIS: Implement simple average calculation\n",
    "\n",
    "        self.merged_data = df\n",
    "        return df  # return a new DataFrame with final grades\n",
    "\n",
    "    def get_student_grades(self, student_id):\n",
    "        \"\"\"\n",
    "        Retrieves all grade data for a specific student by their ID.\n",
    "\n",
    "        Args:\n",
    "            student_id (str or int): The ID of the student to retrieve grades for.\n",
    "\n",
    "        Returns:\n",
    "            pd.DataFrame or None: A DataFrame containing the student's grades, or None if not found or data not merged.\n",
    "        \"\"\"\n",
    "        if ...: #COMPLETE THIS: CHECK THAT DATASETS HAVE BEEN MERGED FIRST\n",
    "            print(\"Data not merged. Please run merge_datasets first.\")\n",
    "            return None\n",
    "        \n",
    "        # Normalize student_id in DataFrame to string zero-padded\n",
    "        self.merged_data['student_id'] = self.merged_data['student_id'].astype(str).str.zfill(3)\n",
    "\n",
    "        # Normalize the input student_id similarly\n",
    "        student_id_str = str(student_id).zfill(3)\n",
    "        \n",
    "        return self.merged_data[self.merged_data['student_id'] == ...]   #COMPLETE THIS LINE!\n"
   ]
  },
  {
   "cell_type": "markdown",
   "id": "cf47f90d",
   "metadata": {},
   "source": [
    "&#9989; **Question 4.2 (6 points). Instantiate an object in this class and use it as follows:**\n",
    "1. **Initialize a Gradebook Manager object using the three provided files `quiz_grades.csv`, `midterm.csv`, and `final_grades.csv`. (2 points)**\n",
    "2. **Merge the three datasets. (1 point)**\n",
    "3. **Compute the final grades in this class using the following weights: quizzes -> 35%, midterm -> 30%, and final exam -> 35%. (2 points)**\n",
    "4. **Show the grades for the student with ID number `013`. (1 point)**\n",
    " "
   ]
  },
  {
   "cell_type": "code",
   "execution_count": 44,
   "id": "3506a66d",
   "metadata": {},
   "outputs": [],
   "source": [
    "### Put your code here\n",
    "\n"
   ]
  },
  {
   "cell_type": "markdown",
   "id": "c159cf9a",
   "metadata": {
    "tags": []
   },
   "source": [
    "---\n",
    "### &#128721; STOP (1 point)\n",
    "**Pause to commit your changes to your Git repository!**\n",
    "\n",
    "Take a moment to save your notebook, commit  and push the changes to your Git repository.\n",
    "\n",
    "---"
   ]
  },
  {
   "cell_type": "markdown",
   "id": "755cce02-7247-4e83-8c8f-9d3355f1512a",
   "metadata": {},
   "source": [
    "## Part 5: Writing a simple Python code using different programming paradigms (17 points)\n",
    "\n",
    "In this section, you will show your ability to use the three different programming paradigms we learned in class (linear, functional, and object-oriented). \n",
    "\n",
    "You work in a Chemistry laboratory. The lab prepares various chemical solutions with different solutes like NaCl, HCl, KOH, etc. Each solution is recorded with the following details: `Solution ID`, `Name`, `Mass(g)`, `Volume(mL)`, and `Molar mass(g/mol)`. \n",
    "\n",
    "Suppose you are handed the following chemical solutions data:\n",
    "| solution_id | name | mass_g | volume_ml | molar_mass | \n",
    "| ----------- | ------ | ------ | --------- | ---------- |\n",
    "| S001        | NaCl   | 5.8    | 100       | 58.44      |           \n",
    "| S002        | HCl    | 3.65   | 250       | 36.46      |\n",
    "| S003        | KOH    | 4.5    | 150       | 56.11      |\n",
    "\n",
    "And you are asked to compute the following for each solution:\n",
    "\n",
    "1. Record the data as a Pandas dataframe \n",
    "2. Moles of solute: mass_g / molar_mass\n",
    "3. Volume in liters: volume_ml / 1000\n",
    "4. Molarity (mol/L): moles / volume_L\n",
    "5. Add the computed molarity as a new column in the DataFrame\n"
   ]
  },
  {
   "cell_type": "markdown",
   "id": "565a8282-74af-4ffd-b6cf-0c483cf9588f",
   "metadata": {},
   "source": [
    "&#9989; **Question 5.1 Write code for the above task using linear programming (5 points):** "
   ]
  },
  {
   "cell_type": "code",
   "execution_count": null,
   "id": "4c321a9f-e981-4657-ad7a-c83eaa777bdb",
   "metadata": {},
   "outputs": [],
   "source": [
    "### Put your code here"
   ]
  },
  {
   "cell_type": "markdown",
   "id": "0e6d60bd-78fc-4aad-a488-4dbe6cbf762f",
   "metadata": {},
   "source": [
    "&#9989; **Question 5.2 Write code for the above task using functional programming (5 points):** "
   ]
  },
  {
   "cell_type": "code",
   "execution_count": null,
   "id": "647cf0e9-9009-4cda-909c-0aa8107dff4e",
   "metadata": {},
   "outputs": [],
   "source": [
    "### Put your code here"
   ]
  },
  {
   "cell_type": "markdown",
   "id": "7c98bcff-f743-46c9-937f-e493e92666f5",
   "metadata": {},
   "source": [
    "&#9989; **Question 5.3 Write code for the above task using object-oriented programming (5 points):** "
   ]
  },
  {
   "cell_type": "code",
   "execution_count": null,
   "id": "06556500-bcd9-4f3e-8b26-92fd4db2b945",
   "metadata": {},
   "outputs": [],
   "source": [
    "### Put your code here"
   ]
  },
  {
   "cell_type": "markdown",
   "id": "23fa07a7-a7ae-42bd-8c2b-0378bb299852",
   "metadata": {},
   "source": [
    "&#9989; **Question 5.4 Based on these results, comment on the advantages and disadvantages between linear, functional and OOP programming (1 point):** "
   ]
  },
  {
   "cell_type": "markdown",
   "id": "5e8e38cf-1f3c-4711-b90a-227424e39219",
   "metadata": {},
   "source": [
    "<font size=+3>&#9998;</font> _Put your answer here_"
   ]
  },
  {
   "cell_type": "markdown",
   "id": "14435d84-82d4-4ffc-82b9-3188de6c7103",
   "metadata": {},
   "source": [
    "---\n",
    "### &#128721; STOP (1 point)\n",
    "**Pause to commit your changes to your Git repository!**\n",
    "\n",
    "Take a moment to save your notebook, commit  and push the changes to your Git repository.\n",
    "\n",
    "---"
   ]
  },
  {
   "cell_type": "markdown",
   "id": "868efbc9",
   "metadata": {
    "jp-MarkdownHeadingCollapsed": true,
    "tags": []
   },
   "source": [
    "## You're done! Congrats on finishing your CMSE 202 Midterm!\n",
    "\n",
    "Make sure all of your changes to your repository are committed and pushed to GitHub. Also upload a copy of this notebook to the dropbox on D2L in case something went wrong with your repository or if you couldn't get the repository to work."
   ]
  }
 ],
 "metadata": {
  "kernelspec": {
   "display_name": "Python [conda env:base] *",
   "language": "python",
   "name": "conda-base-py"
  },
  "language_info": {
   "codemirror_mode": {
    "name": "ipython",
    "version": 3
   },
   "file_extension": ".py",
   "mimetype": "text/x-python",
   "name": "python",
   "nbconvert_exporter": "python",
   "pygments_lexer": "ipython3",
   "version": "3.13.5"
  }
 },
 "nbformat": 4,
 "nbformat_minor": 5
}
